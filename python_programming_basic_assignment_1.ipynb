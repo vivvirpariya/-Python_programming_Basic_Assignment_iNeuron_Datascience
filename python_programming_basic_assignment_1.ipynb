{
 "cells": [
  {
   "cell_type": "markdown",
   "id": "7ba4423c",
   "metadata": {},
   "source": [
    "##### 1. Write a Python program to print \"Hello Python\"?"
   ]
  },
  {
   "cell_type": "code",
   "execution_count": 1,
   "id": "0e41e749",
   "metadata": {},
   "outputs": [
    {
     "name": "stdout",
     "output_type": "stream",
     "text": [
      "Hello Python\n"
     ]
    }
   ],
   "source": [
    "print(\"Hello Python\")"
   ]
  },
  {
   "cell_type": "markdown",
   "id": "ca64e183",
   "metadata": {},
   "source": [
    "##### 2. Write a Python program to do arithmetical operations addition and division.?"
   ]
  },
  {
   "cell_type": "code",
   "execution_count": 7,
   "id": "2b90c3dc",
   "metadata": {},
   "outputs": [
    {
     "data": {
      "text/plain": [
       "3"
      ]
     },
     "execution_count": 7,
     "metadata": {},
     "output_type": "execute_result"
    }
   ],
   "source": [
    "a = 1\n",
    "b = 2\n",
    "x = 10\n",
    "y = 15\n",
    "#addition\n",
    "a + b"
   ]
  },
  {
   "cell_type": "code",
   "execution_count": 8,
   "id": "9ffd9982",
   "metadata": {},
   "outputs": [
    {
     "data": {
      "text/plain": [
       "0"
      ]
     },
     "execution_count": 8,
     "metadata": {},
     "output_type": "execute_result"
    }
   ],
   "source": [
    "#division\n",
    "a//b"
   ]
  },
  {
   "cell_type": "code",
   "execution_count": 12,
   "id": "f8d71cf1",
   "metadata": {},
   "outputs": [
    {
     "data": {
      "text/plain": [
       "1"
      ]
     },
     "execution_count": 12,
     "metadata": {},
     "output_type": "execute_result"
    }
   ],
   "source": [
    "y//x"
   ]
  },
  {
   "cell_type": "markdown",
   "id": "24788bc4",
   "metadata": {},
   "source": [
    "##### 3. Write a Python program to find the area of a triangle?"
   ]
  },
  {
   "cell_type": "code",
   "execution_count": 1,
   "id": "203d32e3",
   "metadata": {},
   "outputs": [
    {
     "name": "stdout",
     "output_type": "stream",
     "text": [
      "PLEASE ENTER HEIGHT OF TRIANGLE(m) h: 10\n",
      "PLEASR ENTER BASE OF TRIANGLE(m) b: 15.2\n",
      "area of triangle(m*2):  76.0\n"
     ]
    }
   ],
   "source": [
    "h = float(input(\"PLEASE ENTER HEIGHT OF TRIANGLE(m) h: \"))\n",
    "b = float(input(\"PLEASR ENTER BASE OF TRIANGLE(m) b: \"))\n",
    "area = 0.5 * b * h #formula of find area of Triangles\n",
    "print(\"area of triangle(m*2): \", area)"
   ]
  },
  {
   "cell_type": "markdown",
   "id": "a7193920",
   "metadata": {},
   "source": [
    "##### 4. Write a Python program to swap two variables?"
   ]
  },
  {
   "cell_type": "code",
   "execution_count": 2,
   "id": "37b9339f",
   "metadata": {},
   "outputs": [],
   "source": [
    "a = 10\n",
    "b = 15.2\n",
    "a,b = b,a #Swappin of two Variables."
   ]
  },
  {
   "cell_type": "code",
   "execution_count": 3,
   "id": "10fd5213",
   "metadata": {},
   "outputs": [
    {
     "data": {
      "text/plain": [
       "15.2"
      ]
     },
     "execution_count": 3,
     "metadata": {},
     "output_type": "execute_result"
    }
   ],
   "source": [
    "a"
   ]
  },
  {
   "cell_type": "code",
   "execution_count": 4,
   "id": "f4d76121",
   "metadata": {},
   "outputs": [
    {
     "data": {
      "text/plain": [
       "10"
      ]
     },
     "execution_count": 4,
     "metadata": {},
     "output_type": "execute_result"
    }
   ],
   "source": [
    "b"
   ]
  },
  {
   "cell_type": "markdown",
   "id": "7b21494a",
   "metadata": {},
   "source": [
    "##### 5. Write a Python program to generate a random number?"
   ]
  },
  {
   "cell_type": "code",
   "execution_count": 8,
   "id": "f6897d42",
   "metadata": {},
   "outputs": [
    {
     "name": "stdout",
     "output_type": "stream",
     "text": [
      "0.12973256921599519\n"
     ]
    }
   ],
   "source": [
    "import random\n",
    "number = random.random()\n",
    "print(number)"
   ]
  }
 ],
 "metadata": {
  "kernelspec": {
   "display_name": "Python 3 (ipykernel)",
   "language": "python",
   "name": "python3"
  },
  "language_info": {
   "codemirror_mode": {
    "name": "ipython",
    "version": 3
   },
   "file_extension": ".py",
   "mimetype": "text/x-python",
   "name": "python",
   "nbconvert_exporter": "python",
   "pygments_lexer": "ipython3",
   "version": "3.9.12"
  }
 },
 "nbformat": 4,
 "nbformat_minor": 5
}
